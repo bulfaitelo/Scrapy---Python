{
 "cells": [
  {
   "cell_type": "code",
   "execution_count": 3,
   "metadata": {},
   "outputs": [],
   "source": [
    "import random"
   ]
  },
  {
   "cell_type": "code",
   "execution_count": null,
   "metadata": {},
   "outputs": [],
   "source": [
    "help(random.randint)"
   ]
  },
  {
   "cell_type": "code",
   "execution_count": null,
   "metadata": {},
   "outputs": [],
   "source": [
    "random.randint(1,100)"
   ]
  },
  {
   "cell_type": "code",
   "execution_count": 4,
   "metadata": {},
   "outputs": [],
   "source": [
    "numero = random.randint(1, 100)"
   ]
  },
  {
   "cell_type": "code",
   "execution_count": 5,
   "metadata": {},
   "outputs": [
    {
     "name": "stdout",
     "output_type": "stream",
     "text": [
      "Digite o numero (1 a 100): 50\n",
      "Você errou, o valor é maior (está quente)\n",
      "Digite o numero (1 a 100): 53\n",
      "Você errou, o valor é maior (está quente)\n",
      "Digite o numero (1 a 100): 55\n",
      "Você errou, o valor é maior (está quente)\n",
      "Digite o numero (1 a 100): 57\n",
      "Você errou, o valor é maior (está quente)\n",
      "Digite o numero (1 a 100): 59\n",
      "Você errou, o valor é maior (está quente)\n",
      "O numero é: 60\n"
     ]
    }
   ],
   "source": [
    "contador = 0 \n",
    "while contador < 5:\n",
    "    chute = int(input(\"Digite o numero (1 a 100): \"))\n",
    "    diferenca = numero - chute\n",
    "    if diferenca == 0:\n",
    "        print(\"você acertou aeww!\")\n",
    "        break\n",
    "    elif diferenca > 0:\n",
    "        if abs(diferenca) <= 10:\n",
    "            print(\"Você errou, o valor é maior (está quente)\")\n",
    "        else: \n",
    "            print(\"Você errou, o valor é mario (está frio)\")\n",
    "    else:\n",
    "        if abs(diferenca) <= 10:        \n",
    "            print(\"Voce errou, o valor e menor, (Está quente)\")\n",
    "        else:\n",
    "            print(\"Você erroum o valor e menor, (Está frio)\")\n",
    "    contador = contador + 1\n",
    "print(\"O numero é: %s\" % numero)"
   ]
  },
  {
   "cell_type": "code",
   "execution_count": null,
   "metadata": {},
   "outputs": [],
   "source": [
    "contador = 0\n",
    "while contador < 5:\n",
    "    print(contador)\n",
    "    contador = contador + 1\n",
    "print('done')\n",
    "    "
   ]
  },
  {
   "cell_type": "code",
   "execution_count": 11,
   "metadata": {},
   "outputs": [],
   "source": [
    "from math import atan2 as teste"
   ]
  },
  {
   "cell_type": "code",
   "execution_count": 12,
   "metadata": {},
   "outputs": [
    {
     "data": {
      "text/plain": [
       "<function math.atan2>"
      ]
     },
     "execution_count": 12,
     "metadata": {},
     "output_type": "execute_result"
    }
   ],
   "source": [
    "teste"
   ]
  },
  {
   "cell_type": "code",
   "execution_count": null,
   "metadata": {},
   "outputs": [],
   "source": []
  }
 ],
 "metadata": {
  "kernelspec": {
   "display_name": "Python 3",
   "language": "python",
   "name": "python3"
  },
  "language_info": {
   "codemirror_mode": {
    "name": "ipython",
    "version": 3
   },
   "file_extension": ".py",
   "mimetype": "text/x-python",
   "name": "python",
   "nbconvert_exporter": "python",
   "pygments_lexer": "ipython3",
   "version": "3.6.4"
  }
 },
 "nbformat": 4,
 "nbformat_minor": 2
}

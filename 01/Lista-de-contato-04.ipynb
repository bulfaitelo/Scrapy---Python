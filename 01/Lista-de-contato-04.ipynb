{
 "cells": [
  {
   "cell_type": "code",
   "execution_count": 5,
   "metadata": {},
   "outputs": [],
   "source": [
    "info = []\n"
   ]
  },
  {
   "cell_type": "code",
   "execution_count": null,
   "metadata": {},
   "outputs": [],
   "source": []
  },
  {
   "cell_type": "code",
   "execution_count": 10,
   "metadata": {},
   "outputs": [],
   "source": [
    "def criarContato():\n",
    "    print(\"Digite as informações do contato\")\n",
    "    nome = input(\"nome: \")\n",
    "    email = input('E-mail: ')\n",
    "    telefone = input(\"Telefone: \")\n",
    "    return {\n",
    "        'nome': nome, \n",
    "        'email': email,\n",
    "        'telefone':telefone\n",
    "    }"
   ]
  },
  {
   "cell_type": "code",
   "execution_count": 20,
   "metadata": {},
   "outputs": [],
   "source": [
    "def salvarContato(nome, email, telefone):\n",
    "    arquivo = open('contatos.csv', 'a')\n",
    "    arquivo.write('%s, %s, %s\\n' % (nome, email, telefone))\n",
    "    arquivo.flush()\n",
    "    arquivo.close()"
   ]
  },
  {
   "cell_type": "code",
   "execution_count": 21,
   "metadata": {},
   "outputs": [
    {
     "name": "stdout",
     "output_type": "stream",
     "text": [
      "Digite as informações do contato\n",
      "nome: thiago\n",
      "E-mail: rfsd\n",
      "Telefone: sfjdkf\n"
     ]
    }
   ],
   "source": [
    "info = criarContato()"
   ]
  },
  {
   "cell_type": "code",
   "execution_count": 18,
   "metadata": {},
   "outputs": [
    {
     "data": {
      "text/plain": [
       "{'email': 'dasdsad', 'nome': 'thiago', 'telefone': 'asdssd'}"
      ]
     },
     "execution_count": 18,
     "metadata": {},
     "output_type": "execute_result"
    }
   ],
   "source": [
    "info\n"
   ]
  },
  {
   "cell_type": "code",
   "execution_count": 23,
   "metadata": {},
   "outputs": [],
   "source": [
    "salvarContato(info['nome'], info['email'], info['telefone'])"
   ]
  },
  {
   "cell_type": "code",
   "execution_count": 24,
   "metadata": {},
   "outputs": [],
   "source": [
    "salvarContato(**info)"
   ]
  },
  {
   "cell_type": "code",
   "execution_count": null,
   "metadata": {},
   "outputs": [],
   "source": []
  }
 ],
 "metadata": {
  "kernelspec": {
   "display_name": "Python 3",
   "language": "python",
   "name": "python3"
  },
  "language_info": {
   "codemirror_mode": {
    "name": "ipython",
    "version": 3
   },
   "file_extension": ".py",
   "mimetype": "text/x-python",
   "name": "python",
   "nbconvert_exporter": "python",
   "pygments_lexer": "ipython3",
   "version": "3.6.4"
  }
 },
 "nbformat": 4,
 "nbformat_minor": 2
}

{
 "cells": [
  {
   "cell_type": "code",
   "execution_count": 1,
   "metadata": {},
   "outputs": [],
   "source": [
    "numero = 10 "
   ]
  },
  {
   "cell_type": "code",
   "execution_count": 4,
   "metadata": {},
   "outputs": [
    {
     "name": "stdout",
     "output_type": "stream",
     "text": [
      "Digite o numero (1 a 100): 10\n",
      "você acertou aeww!\n"
     ]
    }
   ],
   "source": [
    "contador = 0 \n",
    "while contador < 5:\n",
    "    chute = int(input(\"Digite o numero (1 a 100): \"))\n",
    "    diferenca = numero - chute\n",
    "    if diferenca == 0:\n",
    "        print(\"você acertou aeww!\")\n",
    "        break\n",
    "    elif diferenca > 0:\n",
    "        if abs(diferenca) <= 10:\n",
    "            print(\"Você errou, o valor é maior (está quente)\")\n",
    "        else: \n",
    "            print(\"Você errou, o valor é mario (está frio)\")\n",
    "    else:\n",
    "        if abs(diferenca) <= 10:        \n",
    "            print(\"Voce errou, o valor e menor, (Está quente)\")\n",
    "        else:\n",
    "            print(\"Você erroum o valor e menor, (Está frio)\")\n",
    "    contador = contador + 1"
   ]
  },
  {
   "cell_type": "code",
   "execution_count": 3,
   "metadata": {},
   "outputs": [
    {
     "name": "stdout",
     "output_type": "stream",
     "text": [
      "0\n",
      "1\n",
      "2\n",
      "3\n",
      "4\n",
      "done\n"
     ]
    }
   ],
   "source": [
    "contador = 0\n",
    "while contador < 5:\n",
    "    print(contador)\n",
    "    contador = contador + 1\n",
    "print('done')\n",
    "    "
   ]
  },
  {
   "cell_type": "code",
   "execution_count": null,
   "metadata": {},
   "outputs": [],
   "source": []
  }
 ],
 "metadata": {
  "kernelspec": {
   "display_name": "Python 3",
   "language": "python",
   "name": "python3"
  },
  "language_info": {
   "codemirror_mode": {
    "name": "ipython",
    "version": 3
   },
   "file_extension": ".py",
   "mimetype": "text/x-python",
   "name": "python",
   "nbconvert_exporter": "python",
   "pygments_lexer": "ipython3",
   "version": "3.6.4"
  }
 },
 "nbformat": 4,
 "nbformat_minor": 2
}

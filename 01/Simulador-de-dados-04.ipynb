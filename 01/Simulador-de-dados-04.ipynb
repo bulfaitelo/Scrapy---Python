{
 "cells": [
  {
   "cell_type": "code",
   "execution_count": 8,
   "metadata": {},
   "outputs": [],
   "source": [
    "import random\n",
    "import statistics"
   ]
  },
  {
   "cell_type": "code",
   "execution_count": 9,
   "metadata": {},
   "outputs": [],
   "source": [
    "def gerarNumeros(faces):\n",
    "    dados = input('Digite o numero de Dados: ')\n",
    "    dados = int(dados)\n",
    "    numeros = []\n",
    "    for i in range(dados):        \n",
    "        numero = random.randint(1, faces)\n",
    "        numeros.append(numero)\n",
    "        print(\"Seu numero é: %s\" % numero)\n",
    "    print(\"A soma é: %s\" % sum(numeros))\n",
    "    print(\"o Valor maximo foi: %s\" % max(numeros))\n",
    "    print(\"O valor minumo foi: %s\" % min(numeros))    \n",
    "    print(\"O valor médio  foi: %s\" % statistics.mean(numeros))    "
   ]
  },
  {
   "cell_type": "code",
   "execution_count": 10,
   "metadata": {},
   "outputs": [
    {
     "name": "stdout",
     "output_type": "stream",
     "text": [
      "Digite o numero de faces(ou 'parar' para sair): 6\n",
      "Digite o numero de Dados: 6\n",
      "Seu numero é: 6\n",
      "Seu numero é: 3\n",
      "Seu numero é: 2\n",
      "Seu numero é: 3\n",
      "Seu numero é: 2\n",
      "Seu numero é: 5\n",
      "A soma é: 21\n",
      "o Valor maximo foi: 6\n",
      "O valor minumo foi: 2\n",
      "O valor médio  foi: 3.5\n",
      "Digite o numero de faces(ou 'parar' para sair): parar\n",
      "Finalizou o programa\n"
     ]
    }
   ],
   "source": [
    "continua = True \n",
    "while continua:\n",
    "    faces = input(\"Digite o numero de faces(ou 'parar' para sair): \")\n",
    "    if faces == \"parar\":\n",
    "        continua = False\n",
    "    else:\n",
    "        faces = int(faces)\n",
    "        gerarNumeros(faces)\n",
    "        \n",
    "print(\"Finalizou o programa\")"
   ]
  },
  {
   "cell_type": "code",
   "execution_count": null,
   "metadata": {},
   "outputs": [],
   "source": []
  }
 ],
 "metadata": {
  "kernelspec": {
   "display_name": "Python 3",
   "language": "python",
   "name": "python3"
  },
  "language_info": {
   "codemirror_mode": {
    "name": "ipython",
    "version": 3
   },
   "file_extension": ".py",
   "mimetype": "text/x-python",
   "name": "python",
   "nbconvert_exporter": "python",
   "pygments_lexer": "ipython3",
   "version": "3.6.4"
  }
 },
 "nbformat": 4,
 "nbformat_minor": 2
}

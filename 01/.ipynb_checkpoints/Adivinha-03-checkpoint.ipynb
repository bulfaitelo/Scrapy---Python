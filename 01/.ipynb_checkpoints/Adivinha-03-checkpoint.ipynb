{
 "cells": [
  {
   "cell_type": "code",
   "execution_count": 1,
   "metadata": {},
   "outputs": [
    {
     "name": "stdout",
     "output_type": "stream",
     "text": [
      "Digite o numero: 11\n"
     ]
    }
   ],
   "source": [
    "numero = 10 \n",
    "chute = int(input(\"Digite o numero (1 a 100): \"))"
   ]
  },
  {
   "cell_type": "code",
   "execution_count": 2,
   "metadata": {},
   "outputs": [
    {
     "name": "stdout",
     "output_type": "stream",
     "text": [
      "Voce errou, o valor e menor\n"
     ]
    }
   ],
   "source": [
    "diferenca = numero - chute\n",
    "if diferenca == 0:\n",
    "    print(\"você acertou aeww!\")\n",
    "elif diferenca > 0:\n",
    "    if abs(diferenca) < 10:\n",
    "        print(\"Você errou, o valor é maior (está quente)\")\n",
    "    else: \n",
    "        print(\"Você errou, o valor é mario (está frio)\")\n",
    "else:\n",
    "    print(\"Voce errou, o valor e menor\")"
   ]
  },
  {
   "cell_type": "code",
   "execution_count": null,
   "metadata": {},
   "outputs": [],
   "source": []
  }
 ],
 "metadata": {
  "kernelspec": {
   "display_name": "Python 3",
   "language": "python",
   "name": "python3"
  },
  "language_info": {
   "codemirror_mode": {
    "name": "ipython",
    "version": 3
   },
   "file_extension": ".py",
   "mimetype": "text/x-python",
   "name": "python",
   "nbconvert_exporter": "python",
   "pygments_lexer": "ipython3",
   "version": "3.6.4"
  }
 },
 "nbformat": 4,
 "nbformat_minor": 2
}

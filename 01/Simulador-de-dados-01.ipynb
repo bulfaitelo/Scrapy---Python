{
 "cells": [
  {
   "cell_type": "code",
   "execution_count": 2,
   "metadata": {},
   "outputs": [],
   "source": [
    "import random"
   ]
  },
  {
   "cell_type": "code",
   "execution_count": 19,
   "metadata": {},
   "outputs": [
    {
     "data": {
      "text/plain": [
       "3"
      ]
     },
     "execution_count": 19,
     "metadata": {},
     "output_type": "execute_result"
    }
   ],
   "source": [
    "random.randint(1,6)"
   ]
  },
  {
   "cell_type": "code",
   "execution_count": 21,
   "metadata": {},
   "outputs": [
    {
     "name": "stdout",
     "output_type": "stream",
     "text": [
      "digite o numero de faces: 20\n"
     ]
    }
   ],
   "source": [
    "faces = int(input(\"digite o numero de faces: \"))"
   ]
  },
  {
   "cell_type": "code",
   "execution_count": 38,
   "metadata": {},
   "outputs": [
    {
     "data": {
      "text/plain": [
       "19"
      ]
     },
     "execution_count": 38,
     "metadata": {},
     "output_type": "execute_result"
    }
   ],
   "source": [
    "random.randint(1, faces)"
   ]
  },
  {
   "cell_type": "code",
   "execution_count": 39,
   "metadata": {},
   "outputs": [
    {
     "name": "stdout",
     "output_type": "stream",
     "text": [
      "Digite o numero de faces: 10\n",
      "Seu numero é: 8\n",
      "Digite o numero de faces: 20\n",
      "Seu numero é: 7\n",
      "Digite o numero de faces: 20\n",
      "Seu numero é: 7\n",
      "Digite o numero de faces: 20\n",
      "Seu numero é: 2\n",
      "Digite o numero de faces: 20\n",
      "Seu numero é: 2\n",
      "Digite o numero de faces: 20\n",
      "Seu numero é: 13\n",
      "Digite o numero de faces: parar\n"
     ]
    }
   ],
   "source": [
    "continua = True \n",
    "while continua:\n",
    "    faces = input(\"Digite o numero de faces: \")\n",
    "    if faces == \"parar\":\n",
    "        continua = False\n",
    "    else:\n",
    "        faces = int(faces)\n",
    "        numero = random.randint(1,faces)\n",
    "        print(\"Seu numero é: %s\" % numero)\n",
    "            "
   ]
  }
 ],
 "metadata": {
  "kernelspec": {
   "display_name": "Python 3",
   "language": "python",
   "name": "python3"
  },
  "language_info": {
   "codemirror_mode": {
    "name": "ipython",
    "version": 3
   },
   "file_extension": ".py",
   "mimetype": "text/x-python",
   "name": "python",
   "nbconvert_exporter": "python",
   "pygments_lexer": "ipython3",
   "version": "3.6.4"
  }
 },
 "nbformat": 4,
 "nbformat_minor": 2
}

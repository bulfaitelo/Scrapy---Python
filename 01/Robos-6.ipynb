{
 "cells": [
  {
   "cell_type": "code",
   "execution_count": 22,
   "metadata": {},
   "outputs": [],
   "source": [
    "class Point(object):\n",
    "    \n",
    "    def __init__(self, x, y):\n",
    "        self.x = x\n",
    "        self.y = y\n",
    "        \n",
    "    def __str__(self):\n",
    "        return '<%s, %s>'  % (self.x, self.y)        \n",
    "    \n",
    "class Reward(Point):\n",
    "    \n",
    "    def __init__(self, x, y, name):\n",
    "        super(Reward, self).__init__(x,y)\n",
    "        self.name = name\n",
    "    \n",
    "    def __str__(self):\n",
    "        return '<%s, %s>: %s \\n'  % (self.x, self.y, self.name)\n",
    "    \n",
    "    def __repr__(self):\n",
    "        return \"<Reward> %s \\n\" % str(self)\n",
    "        \n",
    "class Robot(Point):\n",
    "        \n",
    "    def move_up(self):\n",
    "        if self.y < 10:\n",
    "            self.y = self.y + 1\n",
    "        else:\n",
    "            print('Movimento proibido')\n",
    "        \n",
    "    def move_down(self):\n",
    "        if self.y > 0:\n",
    "            self.y = self.y - 1\n",
    "        else:\n",
    "            print('Movimento proibido')\n",
    "        \n",
    "    def move_left(self):\n",
    "        if self.x > 0:\n",
    "            self.x = self.x - 1\n",
    "        else:\n",
    "            print('Movimento proibido')\n",
    "        \n",
    "    def move_right(self):\n",
    "        if self.x < 10:\n",
    "            self.x = self.x + 1\n",
    "        else:\n",
    "            print('Movimento proibido')"
   ]
  },
  {
   "cell_type": "code",
   "execution_count": 23,
   "metadata": {},
   "outputs": [],
   "source": [
    "def check_reward(robot, rewards):\n",
    "    ok = False\n",
    "    for reward in rewards:\n",
    "        if reward.x == robot.x and reward.y == robot.y:\n",
    "            print(\"O robo achou a recompensa: %s\" % reward.name)\n",
    "            ok = True\n",
    "    return ok"
   ]
  },
  {
   "cell_type": "code",
   "execution_count": 24,
   "metadata": {},
   "outputs": [],
   "source": [
    "import random\n",
    "r1 = Reward(random.randint(0,10),random.randint(0,10), \"Moeda\" )\n",
    "r2 = Reward(random.randint(0,10),random.randint(0,10), \"gasolinha\" )\n",
    "r3 = Reward(random.randint(0,10),random.randint(0,10), \"arma\" )\n",
    "r4 = Reward(random.randint(0,10),random.randint(0,10), \"Moeda\" )\n",
    "r5 = Reward(random.randint(0,10),random.randint(0,10), \"gasolinha\" )\n",
    "r6 = Reward(random.randint(0,10),random.randint(0,10), \"arma\" )\n",
    "r7 = Reward(random.randint(0,10),random.randint(0,10), \"Moeda\" )\n",
    "r8 = Reward(random.randint(0,10),random.randint(0,10), \"gasolinha\" )\n",
    "r9 = Reward(random.randint(0,10),random.randint(0,10), \"arma\" )\n",
    "rewards = [r1,r2,r3,r4,r5,r6,r7,r8,r9]"
   ]
  },
  {
   "cell_type": "code",
   "execution_count": 25,
   "metadata": {},
   "outputs": [],
   "source": [
    "robot = Robot(random.randint(0,10), random.randint(0,10))"
   ]
  },
  {
   "cell_type": "code",
   "execution_count": 27,
   "metadata": {},
   "outputs": [
    {
     "name": "stdout",
     "output_type": "stream",
     "text": [
      "Digite up, down, left, ou right para o movimento: up\n",
      "<8, 7>\n",
      "Digite up, down, left, ou right para o movimento: up\n",
      "<8, 8>\n",
      "Digite up, down, left, ou right para o movimento: left\n",
      "<7, 8>\n",
      "Digite up, down, left, ou right para o movimento: left\n",
      "<6, 8>\n",
      "Digite up, down, left, ou right para o movimento: left\n",
      "<5, 8>\n",
      "Digite up, down, left, ou right para o movimento: left\n",
      "<4, 8>\n",
      "Digite up, down, left, ou right para o movimento: left\n",
      "<3, 8>\n",
      "O robo achou a recompensa: arma\n",
      "Digite up, down, left, ou right para o movimento: right\n",
      "<4, 8>\n",
      "Digite up, down, left, ou right para o movimento: down\n",
      "<4, 7>\n",
      "O robo achou a recompensa: Moeda\n",
      "Digite up, down, left, ou right para o movimento: right\n",
      "<5, 7>\n"
     ]
    }
   ],
   "source": [
    "for i in range(10):\n",
    "    moviment = input(\"Digite up, down, left, ou right para o movimento: \")\n",
    "    if moviment == 'up':\n",
    "        robot.move_up()\n",
    "    elif moviment == 'down':\n",
    "        robot.move_down()\n",
    "    elif moviment == 'left':\n",
    "        robot.move_left()\n",
    "    elif moviment == 'right':\n",
    "        robot.move_right()\n",
    "    else:\n",
    "        print ('movimento invalido')\n",
    "        continue\n",
    "    print(robot)\n",
    "    check_reward(robot, rewards)  \n",
    "    "
   ]
  },
  {
   "cell_type": "code",
   "execution_count": 26,
   "metadata": {},
   "outputs": [
    {
     "name": "stdout",
     "output_type": "stream",
     "text": [
      "[<Reward> <9, 3>: Moeda \n",
      " \n",
      ", <Reward> <8, 3>: gasolinha \n",
      " \n",
      ", <Reward> <3, 8>: arma \n",
      " \n",
      ", <Reward> <6, 2>: Moeda \n",
      " \n",
      ", <Reward> <2, 1>: gasolinha \n",
      " \n",
      ", <Reward> <4, 1>: arma \n",
      " \n",
      ", <Reward> <4, 7>: Moeda \n",
      " \n",
      ", <Reward> <8, 1>: gasolinha \n",
      " \n",
      ", <Reward> <5, 4>: arma \n",
      " \n",
      "]\n"
     ]
    }
   ],
   "source": [
    "print(rewards)"
   ]
  },
  {
   "cell_type": "code",
   "execution_count": null,
   "metadata": {},
   "outputs": [],
   "source": []
  }
 ],
 "metadata": {
  "kernelspec": {
   "display_name": "Python 3",
   "language": "python",
   "name": "python3"
  },
  "language_info": {
   "codemirror_mode": {
    "name": "ipython",
    "version": 3
   },
   "file_extension": ".py",
   "mimetype": "text/x-python",
   "name": "python",
   "nbconvert_exporter": "python",
   "pygments_lexer": "ipython3",
   "version": "3.6.4"
  }
 },
 "nbformat": 4,
 "nbformat_minor": 2
}

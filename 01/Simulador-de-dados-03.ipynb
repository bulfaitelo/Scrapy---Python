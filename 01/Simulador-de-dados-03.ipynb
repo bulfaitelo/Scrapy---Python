{
 "cells": [
  {
   "cell_type": "code",
   "execution_count": 1,
   "metadata": {},
   "outputs": [],
   "source": [
    "import random"
   ]
  },
  {
   "cell_type": "code",
   "execution_count": 7,
   "metadata": {},
   "outputs": [],
   "source": [
    "def gerarNumeros(faces):\n",
    "    dados = input('Digite o numero de Dados: ')\n",
    "    dados = int(dados)\n",
    "    for i in range(dados):\n",
    "        numero = random.randint(1,faces)\n",
    "        print(\"Seu numero é: %s\" % numero)"
   ]
  },
  {
   "cell_type": "code",
   "execution_count": 8,
   "metadata": {},
   "outputs": [
    {
     "name": "stdout",
     "output_type": "stream",
     "text": [
      "Digite o numero de faces(ou 'parar' para sair): 10\n",
      "Digite o numero de Dados: 2\n",
      "Seu numero é: 9\n",
      "Seu numero é: 4\n",
      "Digite o numero de faces(ou 'parar' para sair): parar\n",
      "Finalizou o programa\n"
     ]
    }
   ],
   "source": [
    "continua = True \n",
    "while continua:\n",
    "    faces = input(\"Digite o numero de faces(ou 'parar' para sair): \")\n",
    "    if faces == \"parar\":\n",
    "        continua = False\n",
    "    else:\n",
    "        faces = int(faces)\n",
    "        gerarNumeros(faces)\n",
    "        \n",
    "print(\"Finalizou o programa\")"
   ]
  },
  {
   "cell_type": "code",
   "execution_count": 4,
   "metadata": {},
   "outputs": [],
   "source": [
    "def soma(a, b):\n",
    "    return a + b"
   ]
  },
  {
   "cell_type": "code",
   "execution_count": 5,
   "metadata": {},
   "outputs": [
    {
     "data": {
      "text/plain": [
       "11"
      ]
     },
     "execution_count": 5,
     "metadata": {},
     "output_type": "execute_result"
    }
   ],
   "source": [
    "soma(5,6)"
   ]
  },
  {
   "cell_type": "code",
   "execution_count": null,
   "metadata": {},
   "outputs": [],
   "source": []
  }
 ],
 "metadata": {
  "kernelspec": {
   "display_name": "Python 3",
   "language": "python",
   "name": "python3"
  },
  "language_info": {
   "codemirror_mode": {
    "name": "ipython",
    "version": 3
   },
   "file_extension": ".py",
   "mimetype": "text/x-python",
   "name": "python",
   "nbconvert_exporter": "python",
   "pygments_lexer": "ipython3",
   "version": "3.6.4"
  }
 },
 "nbformat": 4,
 "nbformat_minor": 2
}

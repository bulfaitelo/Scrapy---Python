{
 "cells": [
  {
   "cell_type": "code",
   "execution_count": 4,
   "metadata": {},
   "outputs": [],
   "source": [
    "def criarContato(*args):\n",
    "    print(\"Digite as informações do contato\")\n",
    "    info = {}\n",
    "    for arg in args:\n",
    "        info[arg] = input('Digite %s' % arg)\n",
    "    return info"
   ]
  },
  {
   "cell_type": "code",
   "execution_count": 5,
   "metadata": {},
   "outputs": [],
   "source": [
    "def salvarContato(**kwargs):\n",
    "    arquivo = open('contatos.csv', 'a')\n",
    "    arquivo.write(','.join(kwargs.values())+'\\n')    \n",
    "    arquivo.flush()\n",
    "    arquivo.close()"
   ]
  },
  {
   "cell_type": "code",
   "execution_count": 6,
   "metadata": {},
   "outputs": [
    {
     "name": "stdout",
     "output_type": "stream",
     "text": [
      "Quantos contatos deseja cadastrar? 2\n",
      "Digite os campos separdos por virgulaab,cd\n",
      "Digite as informações do contato\n",
      "Digite abtwat\n",
      "Digite cdtest\n",
      "Digite os campos separdos por virgulasab,cd\n",
      "Digite as informações do contato\n",
      "Digite sabASas\n",
      "Digite cdASAS\n"
     ]
    }
   ],
   "source": [
    "quantidate = int(input(\"Quantos contatos deseja cadastrar? \"))\n",
    "campos = input(\"Digite os campos separdos por virgula\")\n",
    "campos = campos.split(',')\n",
    "for i in range(quantidate):    \n",
    "    contato = criarContato(*campos) \n",
    "    salvarContato(**contato)"
   ]
  },
  {
   "cell_type": "code",
   "execution_count": null,
   "metadata": {},
   "outputs": [],
   "source": []
  },
  {
   "cell_type": "code",
   "execution_count": null,
   "metadata": {},
   "outputs": [],
   "source": [
    "campos"
   ]
  },
  {
   "cell_type": "code",
   "execution_count": null,
   "metadata": {},
   "outputs": [],
   "source": []
  }
 ],
 "metadata": {
  "kernelspec": {
   "display_name": "Python 3",
   "language": "python",
   "name": "python3"
  },
  "language_info": {
   "codemirror_mode": {
    "name": "ipython",
    "version": 3
   },
   "file_extension": ".py",
   "mimetype": "text/x-python",
   "name": "python",
   "nbconvert_exporter": "python",
   "pygments_lexer": "ipython3",
   "version": "3.6.4"
  }
 },
 "nbformat": 4,
 "nbformat_minor": 2
}
